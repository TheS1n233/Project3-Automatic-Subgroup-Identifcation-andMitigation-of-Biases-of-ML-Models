{
  "cells": [
    {
      "cell_type": "markdown",
      "metadata": {
        "id": "view-in-github",
        "colab_type": "text"
      },
      "source": [
        "<a href=\"https://colab.research.google.com/github/TheS1n233/Project3-Automatic-Subgroup-Identifcation-andMitigation-of-Biases-of-ML-Models/blob/main/P3_baseline.ipynb\" target=\"_parent\"><img src=\"https://colab.research.google.com/assets/colab-badge.svg\" alt=\"Open In Colab\"/></a>"
      ]
    },
    {
      "cell_type": "code",
      "execution_count": 123,
      "metadata": {
        "colab": {
          "base_uri": "https://localhost:8080/"
        },
        "id": "orS3zdTA8lLv",
        "outputId": "83053528-4a8e-4888-ef3b-0312a883cb96"
      },
      "outputs": [
        {
          "output_type": "stream",
          "name": "stdout",
          "text": [
            "Requirement already satisfied: fairlearn in /usr/local/lib/python3.11/dist-packages (0.12.0)\n",
            "Requirement already satisfied: numpy>=1.24.4 in /usr/local/lib/python3.11/dist-packages (from fairlearn) (1.26.4)\n",
            "Requirement already satisfied: pandas>=2.0.3 in /usr/local/lib/python3.11/dist-packages (from fairlearn) (2.2.2)\n",
            "Requirement already satisfied: scikit-learn>=1.2.1 in /usr/local/lib/python3.11/dist-packages (from fairlearn) (1.6.1)\n",
            "Requirement already satisfied: scipy>=1.9.3 in /usr/local/lib/python3.11/dist-packages (from fairlearn) (1.15.3)\n",
            "Requirement already satisfied: python-dateutil>=2.8.2 in /usr/local/lib/python3.11/dist-packages (from pandas>=2.0.3->fairlearn) (2.9.0.post0)\n",
            "Requirement already satisfied: pytz>=2020.1 in /usr/local/lib/python3.11/dist-packages (from pandas>=2.0.3->fairlearn) (2025.2)\n",
            "Requirement already satisfied: tzdata>=2022.7 in /usr/local/lib/python3.11/dist-packages (from pandas>=2.0.3->fairlearn) (2025.2)\n",
            "Requirement already satisfied: joblib>=1.2.0 in /usr/local/lib/python3.11/dist-packages (from scikit-learn>=1.2.1->fairlearn) (1.5.1)\n",
            "Requirement already satisfied: threadpoolctl>=3.1.0 in /usr/local/lib/python3.11/dist-packages (from scikit-learn>=1.2.1->fairlearn) (3.6.0)\n",
            "Requirement already satisfied: six>=1.5 in /usr/local/lib/python3.11/dist-packages (from python-dateutil>=2.8.2->pandas>=2.0.3->fairlearn) (1.17.0)\n",
            "Requirement already satisfied: captum in /usr/local/lib/python3.11/dist-packages (0.8.0)\n",
            "Requirement already satisfied: matplotlib in /usr/local/lib/python3.11/dist-packages (from captum) (3.10.0)\n",
            "Requirement already satisfied: numpy<2.0 in /usr/local/lib/python3.11/dist-packages (from captum) (1.26.4)\n",
            "Requirement already satisfied: packaging in /usr/local/lib/python3.11/dist-packages (from captum) (24.2)\n",
            "Requirement already satisfied: torch>=1.10 in /usr/local/lib/python3.11/dist-packages (from captum) (2.6.0+cu124)\n",
            "Requirement already satisfied: tqdm in /usr/local/lib/python3.11/dist-packages (from captum) (4.67.1)\n",
            "Requirement already satisfied: filelock in /usr/local/lib/python3.11/dist-packages (from torch>=1.10->captum) (3.18.0)\n",
            "Requirement already satisfied: typing-extensions>=4.10.0 in /usr/local/lib/python3.11/dist-packages (from torch>=1.10->captum) (4.14.0)\n",
            "Requirement already satisfied: networkx in /usr/local/lib/python3.11/dist-packages (from torch>=1.10->captum) (3.5)\n",
            "Requirement already satisfied: jinja2 in /usr/local/lib/python3.11/dist-packages (from torch>=1.10->captum) (3.1.6)\n",
            "Requirement already satisfied: fsspec in /usr/local/lib/python3.11/dist-packages (from torch>=1.10->captum) (2025.3.2)\n",
            "Requirement already satisfied: nvidia-cuda-nvrtc-cu12==12.4.127 in /usr/local/lib/python3.11/dist-packages (from torch>=1.10->captum) (12.4.127)\n",
            "Requirement already satisfied: nvidia-cuda-runtime-cu12==12.4.127 in /usr/local/lib/python3.11/dist-packages (from torch>=1.10->captum) (12.4.127)\n",
            "Requirement already satisfied: nvidia-cuda-cupti-cu12==12.4.127 in /usr/local/lib/python3.11/dist-packages (from torch>=1.10->captum) (12.4.127)\n",
            "Requirement already satisfied: nvidia-cudnn-cu12==9.1.0.70 in /usr/local/lib/python3.11/dist-packages (from torch>=1.10->captum) (9.1.0.70)\n",
            "Requirement already satisfied: nvidia-cublas-cu12==12.4.5.8 in /usr/local/lib/python3.11/dist-packages (from torch>=1.10->captum) (12.4.5.8)\n",
            "Requirement already satisfied: nvidia-cufft-cu12==11.2.1.3 in /usr/local/lib/python3.11/dist-packages (from torch>=1.10->captum) (11.2.1.3)\n",
            "Requirement already satisfied: nvidia-curand-cu12==10.3.5.147 in /usr/local/lib/python3.11/dist-packages (from torch>=1.10->captum) (10.3.5.147)\n",
            "Requirement already satisfied: nvidia-cusolver-cu12==11.6.1.9 in /usr/local/lib/python3.11/dist-packages (from torch>=1.10->captum) (11.6.1.9)\n",
            "Requirement already satisfied: nvidia-cusparse-cu12==12.3.1.170 in /usr/local/lib/python3.11/dist-packages (from torch>=1.10->captum) (12.3.1.170)\n",
            "Requirement already satisfied: nvidia-cusparselt-cu12==0.6.2 in /usr/local/lib/python3.11/dist-packages (from torch>=1.10->captum) (0.6.2)\n",
            "Requirement already satisfied: nvidia-nccl-cu12==2.21.5 in /usr/local/lib/python3.11/dist-packages (from torch>=1.10->captum) (2.21.5)\n",
            "Requirement already satisfied: nvidia-nvtx-cu12==12.4.127 in /usr/local/lib/python3.11/dist-packages (from torch>=1.10->captum) (12.4.127)\n",
            "Requirement already satisfied: nvidia-nvjitlink-cu12==12.4.127 in /usr/local/lib/python3.11/dist-packages (from torch>=1.10->captum) (12.4.127)\n",
            "Requirement already satisfied: triton==3.2.0 in /usr/local/lib/python3.11/dist-packages (from torch>=1.10->captum) (3.2.0)\n",
            "Requirement already satisfied: sympy==1.13.1 in /usr/local/lib/python3.11/dist-packages (from torch>=1.10->captum) (1.13.1)\n",
            "Requirement already satisfied: mpmath<1.4,>=1.1.0 in /usr/local/lib/python3.11/dist-packages (from sympy==1.13.1->torch>=1.10->captum) (1.3.0)\n",
            "Requirement already satisfied: contourpy>=1.0.1 in /usr/local/lib/python3.11/dist-packages (from matplotlib->captum) (1.3.2)\n",
            "Requirement already satisfied: cycler>=0.10 in /usr/local/lib/python3.11/dist-packages (from matplotlib->captum) (0.12.1)\n",
            "Requirement already satisfied: fonttools>=4.22.0 in /usr/local/lib/python3.11/dist-packages (from matplotlib->captum) (4.58.4)\n",
            "Requirement already satisfied: kiwisolver>=1.3.1 in /usr/local/lib/python3.11/dist-packages (from matplotlib->captum) (1.4.8)\n",
            "Requirement already satisfied: pillow>=8 in /usr/local/lib/python3.11/dist-packages (from matplotlib->captum) (11.2.1)\n",
            "Requirement already satisfied: pyparsing>=2.3.1 in /usr/local/lib/python3.11/dist-packages (from matplotlib->captum) (3.2.3)\n",
            "Requirement already satisfied: python-dateutil>=2.7 in /usr/local/lib/python3.11/dist-packages (from matplotlib->captum) (2.9.0.post0)\n",
            "Requirement already satisfied: six>=1.5 in /usr/local/lib/python3.11/dist-packages (from python-dateutil>=2.7->matplotlib->captum) (1.17.0)\n",
            "Requirement already satisfied: MarkupSafe>=2.0 in /usr/local/lib/python3.11/dist-packages (from jinja2->torch>=1.10->captum) (3.0.2)\n"
          ]
        }
      ],
      "source": [
        "!pip install fairlearn\n",
        "!pip install captum\n"
      ]
    },
    {
      "cell_type": "markdown",
      "metadata": {
        "id": "aeh0nVTtonla"
      },
      "source": [
        "**1.Setup and Imports**"
      ]
    },
    {
      "cell_type": "code",
      "execution_count": 124,
      "metadata": {
        "colab": {
          "base_uri": "https://localhost:8080/"
        },
        "id": "PaONMAWplk2B",
        "outputId": "6a031401-1193-41ac-acb2-916c0f15ef19"
      },
      "outputs": [
        {
          "output_type": "stream",
          "name": "stdout",
          "text": [
            "Drive already mounted at /content/drive; to attempt to forcibly remount, call drive.mount(\"/content/drive\", force_remount=True).\n",
            "Using device: cuda\n"
          ]
        }
      ],
      "source": [
        "import os\n",
        "import random\n",
        "import numpy as np\n",
        "import pandas as pd\n",
        "import zipfile\n",
        "import tarfile\n",
        "import json\n",
        "from PIL import Image\n",
        "from collections import defaultdict\n",
        "import torch\n",
        "import torch.nn as nn\n",
        "import torch.optim as optim\n",
        "from torch.utils.data import Dataset\n",
        "from torch.utils.data import DataLoader\n",
        "import torchvision.transforms as transforms\n",
        "from torchvision import models\n",
        "import torchvision.transforms as transforms\n",
        "from torch.utils.data import DataLoader\n",
        "from sklearn.metrics import accuracy_score\n",
        "from fairlearn.metrics import MetricFrame\n",
        "from tqdm.auto import tqdm\n",
        "from google.colab import drive\n",
        "drive.mount('/content/drive')\n",
        "device = torch.device(\"cuda\" if torch.cuda.is_available() else \"cpu\")\n",
        "print(\"Using device:\", device)\n",
        "\n"
      ]
    },
    {
      "cell_type": "code",
      "execution_count": 125,
      "metadata": {
        "id": "E0elvX6_ASnM",
        "colab": {
          "base_uri": "https://localhost:8080/"
        },
        "outputId": "13e642e2-c7a3-4ecb-9219-da3bb87ad165"
      },
      "outputs": [
        {
          "output_type": "stream",
          "name": "stdout",
          "text": [
            "Dataset already extracted.\n"
          ]
        }
      ],
      "source": [
        "zip_path = '/content/drive/MyDrive/waterbirds_v1.0-20250623T155043Z-1-001.zip'\n",
        "extract_dir = '/content/waterbirds_v1.0'\n",
        "\n",
        "if not os.path.exists(extract_dir):\n",
        "    print(\"Extracting dataset zip to /content...\")\n",
        "    with zipfile.ZipFile(zip_path, 'r') as zip_ref:\n",
        "        zip_ref.extractall('/content')\n",
        "else:\n",
        "    print(\"Dataset already extracted.\")"
      ]
    },
    {
      "cell_type": "code",
      "execution_count": 126,
      "metadata": {
        "id": "Jog_N1Lb04l-"
      },
      "outputs": [],
      "source": [
        "def set_seed(seed=77):   # tried seed = {42, 77. 123}\n",
        "    random.seed(seed)\n",
        "    np.random.seed(seed)\n",
        "    torch.manual_seed(seed)\n",
        "    torch.cuda.manual_seed_all(seed)\n",
        "\n",
        "set_seed()\n",
        "image_root = '/content/waterbirds_v1.0'\n",
        "csv_path   = '/content/waterbirds_v1.0/metadata.csv'\n",
        "df_meta    = pd.read_csv(csv_path)\n",
        "df_meta['group_id'] = df_meta['y']*2 + df_meta['place']"
      ]
    },
    {
      "cell_type": "code",
      "source": [
        "from google.colab import drive\n",
        "drive.mount('/content/drive')"
      ],
      "metadata": {
        "colab": {
          "base_uri": "https://localhost:8080/"
        },
        "id": "A63sP46bmVRX",
        "outputId": "6185f3b1-6fa6-408b-f87d-9c3080a73204"
      },
      "execution_count": 127,
      "outputs": [
        {
          "output_type": "stream",
          "name": "stdout",
          "text": [
            "Drive already mounted at /content/drive; to attempt to forcibly remount, call drive.mount(\"/content/drive\", force_remount=True).\n"
          ]
        }
      ]
    },
    {
      "cell_type": "markdown",
      "metadata": {
        "id": "0bRVH1v9o0ML"
      },
      "source": [
        "**2.Dataset and Subgroup Labels**"
      ]
    },
    {
      "cell_type": "code",
      "execution_count": 128,
      "metadata": {
        "id": "yuA5ArCvonVT"
      },
      "outputs": [],
      "source": [
        "class WaterbirdsDataset(Dataset):\n",
        "    \"\"\"\n",
        "    用于 baseline 训练/验证/测试 —— 只返回 (image, label, subgroup_id)\n",
        "    \"\"\"\n",
        "    def __init__(self, df, image_root, transform=None):\n",
        "        self.df         = df.reset_index(drop=True)\n",
        "        self.image_root = image_root\n",
        "        self.transform  = transform\n",
        "\n",
        "    def __len__(self): return len(self.df)\n",
        "\n",
        "    def __getitem__(self, idx):\n",
        "        row     = self.df.iloc[idx]\n",
        "        img_path = os.path.join(self.image_root, row['img_filename'])\n",
        "        image    = Image.open(img_path).convert('RGB')\n",
        "        if self.transform: image = self.transform(image)\n",
        "        label     = row['y']\n",
        "        subgroup  = row['subgroup_id']\n",
        "        return image, label, subgroup\n",
        "\n",
        "\n",
        "class WaterbirdsDS(Dataset):\n",
        "    \"\"\"\n",
        "    用于方案 2（Div-Aware Reweighting）—— 额外返回样本权重 weight\n",
        "    \"\"\"\n",
        "    def __init__(self, df, image_root, div_dict, transform=None):\n",
        "        self.df         = df.reset_index(drop=True)\n",
        "        self.image_root = image_root\n",
        "        self.div_dict   = div_dict          # {subgroup_id : weight}\n",
        "        self.transform  = transform\n",
        "\n",
        "    def __len__(self): return len(self.df)\n",
        "\n",
        "    def __getitem__(self, idx):\n",
        "        row     = self.df.iloc[idx]\n",
        "        img_path = os.path.join(self.image_root, row['img_filename'])\n",
        "        image    = Image.open(img_path).convert('RGB')\n",
        "        if self.transform: image = self.transform(image)\n",
        "        label    = row['y']\n",
        "        subgroup = row['subgroup_id']\n",
        "        weight   = self.div_dict.get(str(subgroup), 1.0)\n",
        "        return image, label, weight\n"
      ]
    },
    {
      "cell_type": "markdown",
      "metadata": {
        "id": "BoILYyMMo6yp"
      },
      "source": [
        "# **3.DataLoader + Transforms**"
      ]
    },
    {
      "cell_type": "code",
      "execution_count": 129,
      "metadata": {
        "id": "eU9tyh3Lo7bk",
        "colab": {
          "base_uri": "https://localhost:8080/"
        },
        "outputId": "0274d932-e53b-4f65-a1ae-12ff41e40e2e"
      },
      "outputs": [
        {
          "output_type": "stream",
          "name": "stdout",
          "text": [
            "Train: 4795, Val: 1199, Test: 5794\n"
          ]
        },
        {
          "output_type": "stream",
          "name": "stderr",
          "text": [
            "/usr/local/lib/python3.11/dist-packages/torch/utils/data/dataloader.py:624: UserWarning: This DataLoader will create 4 worker processes in total. Our suggested max number of worker in current system is 2, which is smaller than what this DataLoader is going to create. Please be aware that excessive worker creation might get DataLoader running slow or even freeze, lower the worker number to avoid potential slowness/freeze if necessary.\n",
            "  warnings.warn(\n"
          ]
        }
      ],
      "source": [
        "def load_waterbirds_splits(csv_path):\n",
        "    df = pd.read_csv(csv_path)\n",
        "    #  subgroup_id = y * 2 + place (0~3)\n",
        "    df['subgroup_id'] = df['y'] * 2 + df['place']\n",
        "    train_df = df[df['split'] == 0].copy()\n",
        "    val_df   = df[df['split'] == 1].copy()\n",
        "    test_df  = df[df['split'] == 2].copy()\n",
        "    print(f'Train: {len(train_df)}, Val: {len(val_df)}, Test: {len(test_df)}')\n",
        "    return train_df, val_df, test_df\n",
        "\n",
        "# Data augmentation\n",
        "transform_train = transforms.Compose([\n",
        "    transforms.Resize((224, 224)),\n",
        "    transforms.RandomHorizontalFlip(),\n",
        "    transforms.ToTensor()\n",
        "])\n",
        "transform_eval = transforms.Compose([\n",
        "    transforms.Resize((224, 224)),\n",
        "    transforms.ToTensor()\n",
        "])\n",
        "\n",
        "# DataLoader\n",
        "train_df, val_df, test_df = load_waterbirds_splits(csv_path)\n",
        "\n",
        "BATCH_SIZE   = 64\n",
        "NUM_WORKERS  = 4\n",
        "PIN_MEMORY   = True\n",
        "\n",
        "train_loader = DataLoader(WaterbirdsDataset(train_df, image_root, transform_train),\n",
        "                          batch_size=BATCH_SIZE, shuffle=True,\n",
        "                          num_workers=NUM_WORKERS, pin_memory=PIN_MEMORY,\n",
        "                          persistent_workers=True)\n",
        "\n",
        "eval_loader  = DataLoader(WaterbirdsDataset(val_df,  image_root, transform_eval),\n",
        "                          batch_size=BATCH_SIZE, shuffle=False,\n",
        "                          num_workers=NUM_WORKERS, pin_memory=PIN_MEMORY,\n",
        "                          persistent_workers=True)\n",
        "\n",
        "test_loader  = DataLoader(WaterbirdsDataset(test_df, image_root, transform_eval),\n",
        "                          batch_size=BATCH_SIZE, shuffle=False,\n",
        "                          num_workers=NUM_WORKERS, pin_memory=PIN_MEMORY,\n",
        "                          persistent_workers=True)\n"
      ]
    },
    {
      "cell_type": "markdown",
      "metadata": {
        "id": "4sXiU9SRo_v8"
      },
      "source": [
        "**4.Model: ResNet-18**"
      ]
    },
    {
      "cell_type": "code",
      "execution_count": 130,
      "metadata": {
        "id": "5Ii0D7LdpEb1"
      },
      "outputs": [],
      "source": [
        "def get_model():\n",
        "    model = models.resnet18(weights='IMAGENET1K_V1')\n",
        "    model.fc = nn.Linear(model.fc.in_features, 2)\n",
        "    return model.to(device)\n",
        "\n",
        "\n",
        "def train_epoch(model, loader, opt, criterion):\n",
        "    model.train()\n",
        "    loss_sum = correct = tot = 0\n",
        "    for i,(x,y,_) in enumerate(loader):          # _ = subgroup_id\n",
        "        x, y = x.to(device), y.to(device)\n",
        "        out  = model(x)\n",
        "        loss = criterion(out, y)\n",
        "\n",
        "        opt.zero_grad(); loss.backward(); opt.step()\n",
        "\n",
        "        loss_sum += loss.item() * y.size(0)\n",
        "        pred      = out.argmax(1)\n",
        "        tot      += y.size(0)\n",
        "        correct  += (pred == y).sum().item()\n",
        "\n",
        "        if i % 10 == 0 or i == len(loader)-1:\n",
        "            print(f'Batch {i+1:>3}/{len(loader)}  - Loss: {loss.item():.4f}  - Acc: {correct/tot:.4f}')\n",
        "    return loss_sum/tot, correct/tot\n",
        "\n",
        "\n",
        "from fairlearn.metrics import MetricFrame\n",
        "from sklearn.metrics   import accuracy_score\n",
        "\n",
        "@torch.no_grad()\n",
        "def evaluate(model, loader):\n",
        "    model.eval()\n",
        "    preds, labels, groups = [], [], []\n",
        "    for x,y,g in tqdm(loader, leave=False, desc='Eval'):\n",
        "        p = model(x.to(device)).argmax(1).cpu()\n",
        "        preds  += p.tolist(); labels += y.tolist(); groups += g.tolist()\n",
        "\n",
        "    mf = MetricFrame(metrics={'acc': accuracy_score},\n",
        "                     y_true=labels, y_pred=preds, sensitive_features=groups)\n",
        "    overall = mf.overall['acc']\n",
        "    worst   = mf.by_group['acc'].min()\n",
        "    gap     = overall - worst\n",
        "    return overall, worst, gap\n"
      ]
    },
    {
      "cell_type": "markdown",
      "metadata": {
        "id": "iMPxm0B9Apeg"
      },
      "source": [
        "5.1 Baseline Training"
      ]
    },
    {
      "cell_type": "code",
      "execution_count": 131,
      "metadata": {
        "id": "mcKldFgvAw54",
        "colab": {
          "base_uri": "https://localhost:8080/",
          "height": 1000,
          "referenced_widgets": [
            "63281ce9aefc4224a0d691b78d156812",
            "5e3e8738ac2649d19f98950f81c6e222",
            "d7e342a2c5754bffbcdf16018bb88317",
            "d4547ee6b8d544e7a67c56a4dfc98235",
            "1f2468ed36b149559b2947892ddb2f40",
            "2d2cc049c8fe4c86b9f52eec443b2cc9",
            "2fb0bc4d75c54406966b915bd8d2839c",
            "dd345013a5db431b9f8a04dde2004267",
            "25f0fdbebce242c4b1e772c7294fdf7b",
            "3bc1b1aa0543446685bf7ab3883b91ba",
            "9af082919c2c4fbba21f43780ab2fcf7"
          ]
        },
        "outputId": "fb679b45-8283-47ee-f244-8a3e3c37670c"
      },
      "outputs": [
        {
          "output_type": "stream",
          "name": "stdout",
          "text": [
            "\n",
            "🔁  Starting Epoch 1/5\n",
            "Batch   1/75  - Loss: 0.6328  - Acc: 0.7031\n",
            "Batch  11/75  - Loss: 0.1306  - Acc: 0.9077\n",
            "Batch  21/75  - Loss: 0.1651  - Acc: 0.9226\n",
            "Batch  31/75  - Loss: 0.1407  - Acc: 0.9289\n",
            "Batch  41/75  - Loss: 0.0697  - Acc: 0.9352\n",
            "Batch  51/75  - Loss: 0.0593  - Acc: 0.9403\n",
            "Batch  61/75  - Loss: 0.0676  - Acc: 0.9431\n",
            "Batch  71/75  - Loss: 0.1905  - Acc: 0.9445\n",
            "Batch  75/75  - Loss: 0.1157  - Acc: 0.9456\n",
            "✅  Epoch 1 done. Loss: 0.1575, Acc: 0.9456\n",
            "\n",
            "🔁  Starting Epoch 2/5\n",
            "Batch   1/75  - Loss: 0.0550  - Acc: 0.9688\n",
            "Batch  11/75  - Loss: 0.0792  - Acc: 0.9702\n",
            "Batch  21/75  - Loss: 0.0659  - Acc: 0.9747\n",
            "Batch  31/75  - Loss: 0.0328  - Acc: 0.9748\n",
            "Batch  41/75  - Loss: 0.0392  - Acc: 0.9752\n",
            "Batch  51/75  - Loss: 0.0336  - Acc: 0.9773\n",
            "Batch  61/75  - Loss: 0.0770  - Acc: 0.9782\n",
            "Batch  71/75  - Loss: 0.0252  - Acc: 0.9789\n",
            "Batch  75/75  - Loss: 0.0063  - Acc: 0.9796\n",
            "✅  Epoch 2 done. Loss: 0.0575, Acc: 0.9796\n",
            "\n",
            "🔁  Starting Epoch 3/5\n",
            "Batch   1/75  - Loss: 0.0067  - Acc: 1.0000\n",
            "Batch  11/75  - Loss: 0.0149  - Acc: 0.9929\n",
            "Batch  21/75  - Loss: 0.0101  - Acc: 0.9926\n",
            "Batch  31/75  - Loss: 0.0078  - Acc: 0.9914\n",
            "Batch  41/75  - Loss: 0.0393  - Acc: 0.9924\n",
            "Batch  51/75  - Loss: 0.0065  - Acc: 0.9920\n",
            "Batch  61/75  - Loss: 0.0085  - Acc: 0.9923\n",
            "Batch  71/75  - Loss: 0.0093  - Acc: 0.9930\n",
            "Batch  75/75  - Loss: 0.0199  - Acc: 0.9931\n",
            "✅  Epoch 3 done. Loss: 0.0240, Acc: 0.9931\n",
            "\n",
            "🔁  Starting Epoch 4/5\n",
            "Batch   1/75  - Loss: 0.0050  - Acc: 1.0000\n",
            "Batch  11/75  - Loss: 0.0023  - Acc: 0.9972\n",
            "Batch  21/75  - Loss: 0.0141  - Acc: 0.9955\n",
            "Batch  31/75  - Loss: 0.0047  - Acc: 0.9945\n",
            "Batch  41/75  - Loss: 0.0191  - Acc: 0.9943\n",
            "Batch  51/75  - Loss: 0.0146  - Acc: 0.9945\n",
            "Batch  61/75  - Loss: 0.0065  - Acc: 0.9939\n",
            "Batch  71/75  - Loss: 0.0079  - Acc: 0.9930\n",
            "Batch  75/75  - Loss: 0.0072  - Acc: 0.9929\n",
            "✅  Epoch 4 done. Loss: 0.0216, Acc: 0.9929\n",
            "\n",
            "🔁  Starting Epoch 5/5\n",
            "Batch   1/75  - Loss: 0.0204  - Acc: 0.9844\n",
            "Batch  11/75  - Loss: 0.0686  - Acc: 0.9943\n",
            "Batch  21/75  - Loss: 0.0041  - Acc: 0.9963\n",
            "Batch  31/75  - Loss: 0.0024  - Acc: 0.9965\n",
            "Batch  41/75  - Loss: 0.0081  - Acc: 0.9973\n",
            "Batch  51/75  - Loss: 0.0014  - Acc: 0.9979\n",
            "Batch  61/75  - Loss: 0.0034  - Acc: 0.9982\n",
            "Batch  71/75  - Loss: 0.0007  - Acc: 0.9982\n",
            "Batch  75/75  - Loss: 0.0021  - Acc: 0.9983\n",
            "✅  Epoch 5 done. Loss: 0.0085, Acc: 0.9983\n"
          ]
        },
        {
          "output_type": "display_data",
          "data": {
            "text/plain": [
              "Eval:   0%|          | 0/91 [00:00<?, ?it/s]"
            ],
            "application/vnd.jupyter.widget-view+json": {
              "version_major": 2,
              "version_minor": 0,
              "model_id": "63281ce9aefc4224a0d691b78d156812"
            }
          },
          "metadata": {}
        },
        {
          "output_type": "stream",
          "name": "stdout",
          "text": [
            "Baseline  overall 0.823  worst 0.506  gap 0.317\n"
          ]
        }
      ],
      "source": [
        "EPOCHS   = 5\n",
        "model    = get_model()\n",
        "opt      = optim.Adam(model.parameters(), lr=1e-4)\n",
        "ce       = nn.CrossEntropyLoss()\n",
        "\n",
        "for ep in range(EPOCHS):\n",
        "    print(f'\\n🔁  Starting Epoch {ep+1}/{EPOCHS}')\n",
        "    l, a = train_epoch(model, train_loader, opt, ce)\n",
        "    print(f'✅  Epoch {ep+1} done. Loss: {l:.4f}, Acc: {a:.4f}')\n",
        "\n",
        "torch.save(model.state_dict(), '/content/baseline.pth')\n",
        "\n",
        "base_metrics = evaluate(model, test_loader)\n",
        "print('Baseline  overall %.3f  worst %.3f  gap %.3f' % base_metrics)\n"
      ]
    },
    {
      "cell_type": "markdown",
      "metadata": {
        "id": "xhZ-FgavpHm4"
      },
      "source": [
        "# **5.2 Divergence-Aware Reweighting**"
      ]
    },
    {
      "cell_type": "code",
      "execution_count": 132,
      "metadata": {
        "id": "mVhQSPvopJ5K",
        "colab": {
          "base_uri": "https://localhost:8080/",
          "height": 202,
          "referenced_widgets": [
            "b8ea86af73b748debc7dc11fcd47705d",
            "d41e28831dd345f2a679b0e19f8c2ce2",
            "5eedc17b543e47ea951c43ce8bfdf20f",
            "1c0c907e401040ef84dc1bd0119e6366",
            "3f120bc99d9142c8b74005369e66d958",
            "18839e02d74f418dbc6b2d42f385ba57",
            "4bab6657458047a4b754d6f29b9c5c5b",
            "8aa8c24a81fa4f22b3bb15239cc1ade5",
            "ccc74bec5ce647ec9f0c6ac0e61044c1",
            "08629bde9ea24273b77836b1e5e634cb",
            "a3dc3cf6e4c64d2881cb7b08596ff824"
          ]
        },
        "outputId": "13baf28c-1382-457a-bb44-07dbd5cc7294"
      },
      "outputs": [
        {
          "output_type": "stream",
          "name": "stdout",
          "text": [
            "Divergence per group: {'0.0': 0.0002858776443682104, '1.0': 0.0, '2.0': 0.0, '3.0': 0.002838221381267739}\n"
          ]
        },
        {
          "output_type": "stream",
          "name": "stderr",
          "text": [
            "/usr/local/lib/python3.11/dist-packages/torch/utils/data/dataloader.py:624: UserWarning: This DataLoader will create 4 worker processes in total. Our suggested max number of worker in current system is 2, which is smaller than what this DataLoader is going to create. Please be aware that excessive worker creation might get DataLoader running slow or even freeze, lower the worker number to avoid potential slowness/freeze if necessary.\n",
            "  warnings.warn(\n"
          ]
        },
        {
          "output_type": "stream",
          "name": "stdout",
          "text": [
            "🌈  DW Epoch 1  loss=0.1660  acc=0.943\n",
            "🌈  DW Epoch 2  loss=0.0541  acc=0.981\n",
            "🌈  DW Epoch 3  loss=0.0283  acc=0.991\n",
            "🌈  DW Epoch 4  loss=0.0224  acc=0.994\n",
            "🌈  DW Epoch 5  loss=0.0140  acc=0.996\n"
          ]
        },
        {
          "output_type": "display_data",
          "data": {
            "text/plain": [
              "Eval:   0%|          | 0/91 [00:00<?, ?it/s]"
            ],
            "application/vnd.jupyter.widget-view+json": {
              "version_major": 2,
              "version_minor": 0,
              "model_id": "b8ea86af73b748debc7dc11fcd47705d"
            }
          },
          "metadata": {}
        },
        {
          "output_type": "stream",
          "name": "stdout",
          "text": [
            "Mitigation overall 0.851  worst 0.445  gap 0.405\n"
          ]
        }
      ],
      "source": [
        "@torch.no_grad()\n",
        "def get_divergence_dict(model, loader):\n",
        "    model.eval()\n",
        "    err_df = pd.DataFrame({'group':[], 'is_err':[]})\n",
        "    for x,y,g in loader:\n",
        "        pred = model(x.to(device)).argmax(1).cpu()\n",
        "        err  = (pred != y).int().numpy()\n",
        "        err_df = pd.concat([err_df,\n",
        "                            pd.DataFrame({'group':g.tolist(), 'is_err':err})])\n",
        "    div = err_df.groupby('group')['is_err'].mean().to_dict()\n",
        "    return {str(k): float(v) for k,v in div.items()}\n",
        "\n",
        "div_dict = get_divergence_dict(model, train_loader)\n",
        "print('Divergence per group:', div_dict)\n",
        "\n",
        "train_loader_dw = DataLoader(\n",
        "    WaterbirdsDS(train_df, image_root, div_dict, transform_train),\n",
        "    batch_size=BATCH_SIZE, shuffle=True,\n",
        "    num_workers=NUM_WORKERS, pin_memory=PIN_MEMORY, persistent_workers=True\n",
        ")\n",
        "\n",
        "mit_model = get_model()\n",
        "opt_dw    = optim.Adam(mit_model.parameters(), lr=1e-4)\n",
        "λ = 1.2    # I tried lambda = {0.4, 0.6, 0.8, 1.0, 1.2}, 0.6 is the best\n",
        "\n",
        "for ep in range(EPOCHS):\n",
        "    mit_model.train()\n",
        "    loss_sum = correct = tot = 0\n",
        "    for x,y,w in train_loader_dw:\n",
        "        x,y,w = x.to(device), y.to(device), w.to(device).float()\n",
        "        out   = mit_model(x)\n",
        "        loss  = (ce(out, y) * (1 + λ*(w-1))).mean()\n",
        "\n",
        "        opt_dw.zero_grad(); loss.backward(); opt_dw.step()\n",
        "\n",
        "        loss_sum += loss.item() * y.size(0)\n",
        "        pred      = out.argmax(1)\n",
        "        tot      += y.size(0)\n",
        "        correct  += (pred==y).sum().item()\n",
        "\n",
        "    print(f'🌈  DW Epoch {ep+1}  loss={loss_sum/tot:.4f}  acc={correct/tot:.3f}')\n",
        "\n",
        "torch.save(mit_model.state_dict(), '/content/mitigation.pth')\n",
        "mit_metrics = evaluate(mit_model, test_loader)\n",
        "print('Mitigation overall %.3f  worst %.3f  gap %.3f' % mit_metrics)"
      ]
    },
    {
      "cell_type": "markdown",
      "metadata": {
        "id": "HQwm0wAepMUv"
      },
      "source": [
        " 6. Evaluation (Grad-CAM example visualization)"
      ]
    },
    {
      "cell_type": "code",
      "execution_count": 133,
      "metadata": {
        "id": "0eu3vxsnpNA9",
        "colab": {
          "base_uri": "https://localhost:8080/",
          "height": 270
        },
        "outputId": "7134a4f7-a15c-4aed-d59d-5464bcd57f1f"
      },
      "outputs": [
        {
          "output_type": "display_data",
          "data": {
            "text/plain": [
              "<Figure size 600x300 with 2 Axes>"
            ],
            "image/png": "[encoded data removed]"
          },
          "metadata": {}
        }
      ],
      "source": [
        "import matplotlib.pyplot as plt\n",
        "from captum.attr import LayerGradCam\n",
        "\n",
        "baseline = get_model().to(device)  # load baseline\n",
        "baseline.load_state_dict(torch.load('/content/baseline.pth'))\n",
        "baseline.eval()\n",
        "\n",
        "\n",
        "sample_img, target_label = None, None # Select a sample\n",
        "\n",
        "with torch.no_grad():\n",
        "    for x, y, _ in test_loader:          # _ = subgroup_id\n",
        "        x = x.to(device); y = y.to(device)\n",
        "        p = baseline(x).argmax(1)\n",
        "\n",
        "        wrong_idx = (p != y).nonzero(as_tuple=True)[0]\n",
        "        pick_idx  = wrong_idx[0] if wrong_idx.numel() else 0\n",
        "\n",
        "        sample_img   = x[pick_idx].detach().cpu()\n",
        "        target_label = y[pick_idx].item()\n",
        "        break\n",
        "\n",
        "layer_gc = LayerGradCam(baseline, baseline.layer4[-1])\n",
        "attr     = layer_gc.attribute(sample_img.unsqueeze(0).to(device),\n",
        "                              target=target_label)\n",
        "\n",
        "heat = attr.squeeze().detach().cpu().numpy()\n",
        "heat = (heat - heat.min()) / (heat.max() - heat.min() + 1e-8)\n",
        "\n",
        "plt.figure(figsize=(6,3))\n",
        "plt.subplot(1,2,1)\n",
        "plt.imshow(sample_img.permute(1,2,0))        # CHW ➜ HWC\n",
        "plt.axis('off'); plt.title('Original')\n",
        "\n",
        "plt.subplot(1,2,2)\n",
        "plt.imshow(sample_img.permute(1,2,0)); plt.axis('off')\n",
        "plt.imshow(heat, cmap='jet', alpha=0.5)\n",
        "plt.title('Grad-CAM')\n",
        "plt.show()\n"
      ]
    }
  ],
  "metadata": {
    "accelerator": "GPU",
    "colab": {
      "gpuType": "T4",
      "provenance": [],
      "include_colab_link": true
    },
    "kernelspec": {
      "display_name": "Python 3",
      "name": "python3"
    },
    "language_info": {
      "name": "python"
    },
    "widgets": {
      "application/vnd.jupyter.widget-state+json": {
        "63281ce9aefc4224a0d691b78d156812": {
          "model_module": "@jupyter-widgets/controls",
          "model_name": "HBoxModel",
          "model_module_version": "1.5.0",
          "state": {
            "_dom_classes": [],
            "_model_module": "@jupyter-widgets/controls",
            "_model_module_version": "1.5.0",
            "_model_name": "HBoxModel",
            "_view_count": null,
            "_view_module": "@jupyter-widgets/controls",
            "_view_module_version": "1.5.0",
            "_view_name": "HBoxView",
            "box_style": "",
            "children": [
              "IPY_MODEL_5e3e8738ac2649d19f98950f81c6e222",
              "IPY_MODEL_d7e342a2c5754bffbcdf16018bb88317",
              "IPY_MODEL_d4547ee6b8d544e7a67c56a4dfc98235"
            ],
            "layout": "IPY_MODEL_1f2468ed36b149559b2947892ddb2f40"
          }
        },
        "5e3e8738ac2649d19f98950f81c6e222": {
          "model_module": "@jupyter-widgets/controls",
          "model_name": "HTMLModel",
          "model_module_version": "1.5.0",
          "state": {
            "_dom_classes": [],
            "_model_module": "@jupyter-widgets/controls",
            "_model_module_version": "1.5.0",
            "_model_name": "HTMLModel",
            "_view_count": null,
            "_view_module": "@jupyter-widgets/controls",
            "_view_module_version": "1.5.0",
            "_view_name": "HTMLView",
            "description": "",
            "description_tooltip": null,
            "layout": "IPY_MODEL_2d2cc049c8fe4c86b9f52eec443b2cc9",
            "placeholder": "​",
            "style": "IPY_MODEL_2fb0bc4d75c54406966b915bd8d2839c",
            "value": "Eval:  99%"
          }
        },
        "d7e342a2c5754bffbcdf16018bb88317": {
          "model_module": "@jupyter-widgets/controls",
          "model_name": "FloatProgressModel",
          "model_module_version": "1.5.0",
          "state": {
            "_dom_classes": [],
            "_model_module": "@jupyter-widgets/controls",
            "_model_module_version": "1.5.0",
            "_model_name": "FloatProgressModel",
            "_view_count": null,
            "_view_module": "@jupyter-widgets/controls",
            "_view_module_version": "1.5.0",
            "_view_name": "ProgressView",
            "bar_style": "",
            "description": "",
            "description_tooltip": null,
            "layout": "IPY_MODEL_dd345013a5db431b9f8a04dde2004267",
            "max": 91,
            "min": 0,
            "orientation": "horizontal",
            "style": "IPY_MODEL_25f0fdbebce242c4b1e772c7294fdf7b",
            "value": 91
          }
        },
        "d4547ee6b8d544e7a67c56a4dfc98235": {
          "model_module": "@jupyter-widgets/controls",
          "model_name": "HTMLModel",
          "model_module_version": "1.5.0",
          "state": {
            "_dom_classes": [],
            "_model_module": "@jupyter-widgets/controls",
            "_model_module_version": "1.5.0",
            "_model_name": "HTMLModel",
            "_view_count": null,
            "_view_module": "@jupyter-widgets/controls",
            "_view_module_version": "1.5.0",
            "_view_name": "HTMLView",
            "description": "",
            "description_tooltip": null,
            "layout": "IPY_MODEL_3bc1b1aa0543446685bf7ab3883b91ba",
            "placeholder": "​",
            "style": "IPY_MODEL_9af082919c2c4fbba21f43780ab2fcf7",
            "value": " 90/91 [00:24&lt;00:00,  5.86it/s]"
          }
        },
        "1f2468ed36b149559b2947892ddb2f40": {
          "model_module": "@jupyter-widgets/base",
          "model_name": "LayoutModel",
          "model_module_version": "1.2.0",
          "state": {
            "_model_module": "@jupyter-widgets/base",
            "_model_module_version": "1.2.0",
            "_model_name": "LayoutModel",
            "_view_count": null,
            "_view_module": "@jupyter-widgets/base",
            "_view_module_version": "1.2.0",
            "_view_name": "LayoutView",
            "align_content": null,
            "align_items": null,
            "align_self": null,
            "border": null,
            "bottom": null,
            "display": null,
            "flex": null,
            "flex_flow": null,
            "grid_area": null,
            "grid_auto_columns": null,
            "grid_auto_flow": null,
            "grid_auto_rows": null,
            "grid_column": null,
            "grid_gap": null,
            "grid_row": null,
            "grid_template_areas": null,
            "grid_template_columns": null,
            "grid_template_rows": null,
            "height": null,
            "justify_content": null,
            "justify_items": null,
            "left": null,
            "margin": null,
            "max_height": null,
            "max_width": null,
            "min_height": null,
            "min_width": null,
            "object_fit": null,
            "object_position": null,
            "order": null,
            "overflow": null,
            "overflow_x": null,
            "overflow_y": null,
            "padding": null,
            "right": null,
            "top": null,
            "visibility": "hidden",
            "width": null
          }
        },
        "2d2cc049c8fe4c86b9f52eec443b2cc9": {
          "model_module": "@jupyter-widgets/base",
          "model_name": "LayoutModel",
          "model_module_version": "1.2.0",
          "state": {
            "_model_module": "@jupyter-widgets/base",
            "_model_module_version": "1.2.0",
            "_model_name": "LayoutModel",
            "_view_count": null,
            "_view_module": "@jupyter-widgets/base",
            "_view_module_version": "1.2.0",
            "_view_name": "LayoutView",
            "align_content": null,
            "align_items": null,
            "align_self": null,
            "border": null,
            "bottom": null,
            "display": null,
            "flex": null,
            "flex_flow": null,
            "grid_area": null,
            "grid_auto_columns": null,
            "grid_auto_flow": null,
            "grid_auto_rows": null,
            "grid_column": null,
            "grid_gap": null,
            "grid_row": null,
            "grid_template_areas": null,
            "grid_template_columns": null,
            "grid_template_rows": null,
            "height": null,
            "justify_content": null,
            "justify_items": null,
            "left": null,
            "margin": null,
            "max_height": null,
            "max_width": null,
            "min_height": null,
            "min_width": null,
            "object_fit": null,
            "object_position": null,
            "order": null,
            "overflow": null,
            "overflow_x": null,
            "overflow_y": null,
            "padding": null,
            "right": null,
            "top": null,
            "visibility": null,
            "width": null
          }
        },
        "2fb0bc4d75c54406966b915bd8d2839c": {
          "model_module": "@jupyter-widgets/controls",
          "model_name": "DescriptionStyleModel",
          "model_module_version": "1.5.0",
          "state": {
            "_model_module": "@jupyter-widgets/controls",
            "_model_module_version": "1.5.0",
            "_model_name": "DescriptionStyleModel",
            "_view_count": null,
            "_view_module": "@jupyter-widgets/base",
            "_view_module_version": "1.2.0",
            "_view_name": "StyleView",
            "description_width": ""
          }
        },
        "dd345013a5db431b9f8a04dde2004267": {
          "model_module": "@jupyter-widgets/base",
          "model_name": "LayoutModel",
          "model_module_version": "1.2.0",
          "state": {
            "_model_module": "@jupyter-widgets/base",
            "_model_module_version": "1.2.0",
            "_model_name": "LayoutModel",
            "_view_count": null,
            "_view_module": "@jupyter-widgets/base",
            "_view_module_version": "1.2.0",
            "_view_name": "LayoutView",
            "align_content": null,
            "align_items": null,
            "align_self": null,
            "border": null,
            "bottom": null,
            "display": null,
            "flex": null,
            "flex_flow": null,
            "grid_area": null,
            "grid_auto_columns": null,
            "grid_auto_flow": null,
            "grid_auto_rows": null,
            "grid_column": null,
            "grid_gap": null,
            "grid_row": null,
            "grid_template_areas": null,
            "grid_template_columns": null,
            "grid_template_rows": null,
            "height": null,
            "justify_content": null,
            "justify_items": null,
            "left": null,
            "margin": null,
            "max_height": null,
            "max_width": null,
            "min_height": null,
            "min_width": null,
            "object_fit": null,
            "object_position": null,
            "order": null,
            "overflow": null,
            "overflow_x": null,
            "overflow_y": null,
            "padding": null,
            "right": null,
            "top": null,
            "visibility": null,
            "width": null
          }
        },
        "25f0fdbebce242c4b1e772c7294fdf7b": {
          "model_module": "@jupyter-widgets/controls",
          "model_name": "ProgressStyleModel",
          "model_module_version": "1.5.0",
          "state": {
            "_model_module": "@jupyter-widgets/controls",
            "_model_module_version": "1.5.0",
            "_model_name": "ProgressStyleModel",
            "_view_count": null,
            "_view_module": "@jupyter-widgets/base",
            "_view_module_version": "1.2.0",
            "_view_name": "StyleView",
            "bar_color": null,
            "description_width": ""
          }
        },
        "3bc1b1aa0543446685bf7ab3883b91ba": {
          "model_module": "@jupyter-widgets/base",
          "model_name": "LayoutModel",
          "model_module_version": "1.2.0",
          "state": {
            "_model_module": "@jupyter-widgets/base",
            "_model_module_version": "1.2.0",
            "_model_name": "LayoutModel",
            "_view_count": null,
            "_view_module": "@jupyter-widgets/base",
            "_view_module_version": "1.2.0",
            "_view_name": "LayoutView",
            "align_content": null,
            "align_items": null,
            "align_self": null,
            "border": null,
            "bottom": null,
            "display": null,
            "flex": null,
            "flex_flow": null,
            "grid_area": null,
            "grid_auto_columns": null,
            "grid_auto_flow": null,
            "grid_auto_rows": null,
            "grid_column": null,
            "grid_gap": null,
            "grid_row": null,
            "grid_template_areas": null,
            "grid_template_columns": null,
            "grid_template_rows": null,
            "height": null,
            "justify_content": null,
            "justify_items": null,
            "left": null,
            "margin": null,
            "max_height": null,
            "max_width": null,
            "min_height": null,
            "min_width": null,
            "object_fit": null,
            "object_position": null,
            "order": null,
            "overflow": null,
            "overflow_x": null,
            "overflow_y": null,
            "padding": null,
            "right": null,
            "top": null,
            "visibility": null,
            "width": null
          }
        },
        "9af082919c2c4fbba21f43780ab2fcf7": {
          "model_module": "@jupyter-widgets/controls",
          "model_name": "DescriptionStyleModel",
          "model_module_version": "1.5.0",
          "state": {
            "_model_module": "@jupyter-widgets/controls",
            "_model_module_version": "1.5.0",
            "_model_name": "DescriptionStyleModel",
            "_view_count": null,
            "_view_module": "@jupyter-widgets/base",
            "_view_module_version": "1.2.0",
            "_view_name": "StyleView",
            "description_width": ""
          }
        },
        "b8ea86af73b748debc7dc11fcd47705d": {
          "model_module": "@jupyter-widgets/controls",
          "model_name": "HBoxModel",
          "model_module_version": "1.5.0",
          "state": {
            "_dom_classes": [],
            "_model_module": "@jupyter-widgets/controls",
            "_model_module_version": "1.5.0",
            "_model_name": "HBoxModel",
            "_view_count": null,
            "_view_module": "@jupyter-widgets/controls",
            "_view_module_version": "1.5.0",
            "_view_name": "HBoxView",
            "box_style": "",
            "children": [
              "IPY_MODEL_d41e28831dd345f2a679b0e19f8c2ce2",
              "IPY_MODEL_5eedc17b543e47ea951c43ce8bfdf20f",
              "IPY_MODEL_1c0c907e401040ef84dc1bd0119e6366"
            ],
            "layout": "IPY_MODEL_3f120bc99d9142c8b74005369e66d958"
          }
        },
        "d41e28831dd345f2a679b0e19f8c2ce2": {
          "model_module": "@jupyter-widgets/controls",
          "model_name": "HTMLModel",
          "model_module_version": "1.5.0",
          "state": {
            "_dom_classes": [],
            "_model_module": "@jupyter-widgets/controls",
            "_model_module_version": "1.5.0",
            "_model_name": "HTMLModel",
            "_view_count": null,
            "_view_module": "@jupyter-widgets/controls",
            "_view_module_version": "1.5.0",
            "_view_name": "HTMLView",
            "description": "",
            "description_tooltip": null,
            "layout": "IPY_MODEL_18839e02d74f418dbc6b2d42f385ba57",
            "placeholder": "​",
            "style": "IPY_MODEL_4bab6657458047a4b754d6f29b9c5c5b",
            "value": "Eval:  98%"
          }
        },
        "5eedc17b543e47ea951c43ce8bfdf20f": {
          "model_module": "@jupyter-widgets/controls",
          "model_name": "FloatProgressModel",
          "model_module_version": "1.5.0",
          "state": {
            "_dom_classes": [],
            "_model_module": "@jupyter-widgets/controls",
            "_model_module_version": "1.5.0",
            "_model_name": "FloatProgressModel",
            "_view_count": null,
            "_view_module": "@jupyter-widgets/controls",
            "_view_module_version": "1.5.0",
            "_view_name": "ProgressView",
            "bar_style": "",
            "description": "",
            "description_tooltip": null,
            "layout": "IPY_MODEL_8aa8c24a81fa4f22b3bb15239cc1ade5",
            "max": 91,
            "min": 0,
            "orientation": "horizontal",
            "style": "IPY_MODEL_ccc74bec5ce647ec9f0c6ac0e61044c1",
            "value": 91
          }
        },
        "1c0c907e401040ef84dc1bd0119e6366": {
          "model_module": "@jupyter-widgets/controls",
          "model_name": "HTMLModel",
          "model_module_version": "1.5.0",
          "state": {
            "_dom_classes": [],
            "_model_module": "@jupyter-widgets/controls",
            "_model_module_version": "1.5.0",
            "_model_name": "HTMLModel",
            "_view_count": null,
            "_view_module": "@jupyter-widgets/controls",
            "_view_module_version": "1.5.0",
            "_view_name": "HTMLView",
            "description": "",
            "description_tooltip": null,
            "layout": "IPY_MODEL_08629bde9ea24273b77836b1e5e634cb",
            "placeholder": "​",
            "style": "IPY_MODEL_a3dc3cf6e4c64d2881cb7b08596ff824",
            "value": " 89/91 [00:23&lt;00:00,  4.09it/s]"
          }
        },
        "3f120bc99d9142c8b74005369e66d958": {
          "model_module": "@jupyter-widgets/base",
          "model_name": "LayoutModel",
          "model_module_version": "1.2.0",
          "state": {
            "_model_module": "@jupyter-widgets/base",
            "_model_module_version": "1.2.0",
            "_model_name": "LayoutModel",
            "_view_count": null,
            "_view_module": "@jupyter-widgets/base",
            "_view_module_version": "1.2.0",
            "_view_name": "LayoutView",
            "align_content": null,
            "align_items": null,
            "align_self": null,
            "border": null,
            "bottom": null,
            "display": null,
            "flex": null,
            "flex_flow": null,
            "grid_area": null,
            "grid_auto_columns": null,
            "grid_auto_flow": null,
            "grid_auto_rows": null,
            "grid_column": null,
            "grid_gap": null,
            "grid_row": null,
            "grid_template_areas": null,
            "grid_template_columns": null,
            "grid_template_rows": null,
            "height": null,
            "justify_content": null,
            "justify_items": null,
            "left": null,
            "margin": null,
            "max_height": null,
            "max_width": null,
            "min_height": null,
            "min_width": null,
            "object_fit": null,
            "object_position": null,
            "order": null,
            "overflow": null,
            "overflow_x": null,
            "overflow_y": null,
            "padding": null,
            "right": null,
            "top": null,
            "visibility": "hidden",
            "width": null
          }
        },
        "18839e02d74f418dbc6b2d42f385ba57": {
          "model_module": "@jupyter-widgets/base",
          "model_name": "LayoutModel",
          "model_module_version": "1.2.0",
          "state": {
            "_model_module": "@jupyter-widgets/base",
            "_model_module_version": "1.2.0",
            "_model_name": "LayoutModel",
            "_view_count": null,
            "_view_module": "@jupyter-widgets/base",
            "_view_module_version": "1.2.0",
            "_view_name": "LayoutView",
            "align_content": null,
            "align_items": null,
            "align_self": null,
            "border": null,
            "bottom": null,
            "display": null,
            "flex": null,
            "flex_flow": null,
            "grid_area": null,
            "grid_auto_columns": null,
            "grid_auto_flow": null,
            "grid_auto_rows": null,
            "grid_column": null,
            "grid_gap": null,
            "grid_row": null,
            "grid_template_areas": null,
            "grid_template_columns": null,
            "grid_template_rows": null,
            "height": null,
            "justify_content": null,
            "justify_items": null,
            "left": null,
            "margin": null,
            "max_height": null,
            "max_width": null,
            "min_height": null,
            "min_width": null,
            "object_fit": null,
            "object_position": null,
            "order": null,
            "overflow": null,
            "overflow_x": null,
            "overflow_y": null,
            "padding": null,
            "right": null,
            "top": null,
            "visibility": null,
            "width": null
          }
        },
        "4bab6657458047a4b754d6f29b9c5c5b": {
          "model_module": "@jupyter-widgets/controls",
          "model_name": "DescriptionStyleModel",
          "model_module_version": "1.5.0",
          "state": {
            "_model_module": "@jupyter-widgets/controls",
            "_model_module_version": "1.5.0",
            "_model_name": "DescriptionStyleModel",
            "_view_count": null,
            "_view_module": "@jupyter-widgets/base",
            "_view_module_version": "1.2.0",
            "_view_name": "StyleView",
            "description_width": ""
          }
        },
        "8aa8c24a81fa4f22b3bb15239cc1ade5": {
          "model_module": "@jupyter-widgets/base",
          "model_name": "LayoutModel",
          "model_module_version": "1.2.0",
          "state": {
            "_model_module": "@jupyter-widgets/base",
            "_model_module_version": "1.2.0",
            "_model_name": "LayoutModel",
            "_view_count": null,
            "_view_module": "@jupyter-widgets/base",
            "_view_module_version": "1.2.0",
            "_view_name": "LayoutView",
            "align_content": null,
            "align_items": null,
            "align_self": null,
            "border": null,
            "bottom": null,
            "display": null,
            "flex": null,
            "flex_flow": null,
            "grid_area": null,
            "grid_auto_columns": null,
            "grid_auto_flow": null,
            "grid_auto_rows": null,
            "grid_column": null,
            "grid_gap": null,
            "grid_row": null,
            "grid_template_areas": null,
            "grid_template_columns": null,
            "grid_template_rows": null,
            "height": null,
            "justify_content": null,
            "justify_items": null,
            "left": null,
            "margin": null,
            "max_height": null,
            "max_width": null,
            "min_height": null,
            "min_width": null,
            "object_fit": null,
            "object_position": null,
            "order": null,
            "overflow": null,
            "overflow_x": null,
            "overflow_y": null,
            "padding": null,
            "right": null,
            "top": null,
            "visibility": null,
            "width": null
          }
        },
        "ccc74bec5ce647ec9f0c6ac0e61044c1": {
          "model_module": "@jupyter-widgets/controls",
          "model_name": "ProgressStyleModel",
          "model_module_version": "1.5.0",
          "state": {
            "_model_module": "@jupyter-widgets/controls",
            "_model_module_version": "1.5.0",
            "_model_name": "ProgressStyleModel",
            "_view_count": null,
            "_view_module": "@jupyter-widgets/base",
            "_view_module_version": "1.2.0",
            "_view_name": "StyleView",
            "bar_color": null,
            "description_width": ""
          }
        },
        "08629bde9ea24273b77836b1e5e634cb": {
          "model_module": "@jupyter-widgets/base",
          "model_name": "LayoutModel",
          "model_module_version": "1.2.0",
          "state": {
            "_model_module": "@jupyter-widgets/base",
            "_model_module_version": "1.2.0",
            "_model_name": "LayoutModel",
            "_view_count": null,
            "_view_module": "@jupyter-widgets/base",
            "_view_module_version": "1.2.0",
            "_view_name": "LayoutView",
            "align_content": null,
            "align_items": null,
            "align_self": null,
            "border": null,
            "bottom": null,
            "display": null,
            "flex": null,
            "flex_flow": null,
            "grid_area": null,
            "grid_auto_columns": null,
            "grid_auto_flow": null,
            "grid_auto_rows": null,
            "grid_column": null,
            "grid_gap": null,
            "grid_row": null,
            "grid_template_areas": null,
            "grid_template_columns": null,
            "grid_template_rows": null,
            "height": null,
            "justify_content": null,
            "justify_items": null,
            "left": null,
            "margin": null,
            "max_height": null,
            "max_width": null,
            "min_height": null,
            "min_width": null,
            "object_fit": null,
            "object_position": null,
            "order": null,
            "overflow": null,
            "overflow_x": null,
            "overflow_y": null,
            "padding": null,
            "right": null,
            "top": null,
            "visibility": null,
            "width": null
          }
        },
        "a3dc3cf6e4c64d2881cb7b08596ff824": {
          "model_module": "@jupyter-widgets/controls",
          "model_name": "DescriptionStyleModel",
          "model_module_version": "1.5.0",
          "state": {
            "_model_module": "@jupyter-widgets/controls",
            "_model_module_version": "1.5.0",
            "_model_name": "DescriptionStyleModel",
            "_view_count": null,
            "_view_module": "@jupyter-widgets/base",
            "_view_module_version": "1.2.0",
            "_view_name": "StyleView",
            "description_width": ""
          }
        }
      }
    }
  },
  "nbformat": 4,
  "nbformat_minor": 0
}